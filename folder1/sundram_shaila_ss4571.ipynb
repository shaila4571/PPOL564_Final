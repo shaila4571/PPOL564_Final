{
 "cells": [
  {
   "cell_type": "markdown",
   "id": "e0d6cabe",
   "metadata": {
    "slideshow": {
     "slide_type": "slide"
    }
   },
   "source": [
    "<h1 align = \"center\"> Nuclear Hot Spots: An Analysis of Nuclear Powerplant Placement in the United States\n",
    "\n",
    "<br>\n",
    "<br>\n",
    "<h4 align = \"center\"> Shaila Sundram\n",
    "<br>\n",
    "<br>\n",
    "Final Project – Proposal Presentation\n",
    "<br>\n",
    "<br>\n",
    "PPOL564 | Data Science 1\n",
    "</h4>\n",
    "\n",
    "\n",
    "\n"
   ]
  },
  {
   "cell_type": "code",
   "execution_count": 12,
   "id": "7fa93f71",
   "metadata": {
    "slideshow": {
     "slide_type": "skip"
    }
   },
   "outputs": [],
   "source": [
    "#Document Prep\n",
    "import requests\n",
    "import re\n",
    "import time # To put the system to sleep\n",
    "import random # for random numbers\n",
    "from bs4 import BeautifulSoup # For parsing the website\n",
    "import country_converter as coco\n",
    "import sqlite3\n",
    "import seaborn as sns\n",
    "sns.set(style=\"darkgrid\")\n",
    "\n",
    "# Data Management/Investigation\n",
    "import pandas as pd\n",
    "pd.options.mode.chained_assignment = None\n",
    "from pandas.api.types import CategoricalDtype # Ordering categories\n",
    "import numpy as np\n",
    "import missingno as miss\n",
    "\n",
    "# Plotting libraries\n",
    "from plotnine import *\n",
    "import matplotlib.pyplot as plt\n",
    "\n",
    "\n",
    "# Misc\n",
    "import warnings\n",
    "warnings.filterwarnings(\"ignore\")"
   ]
  },
  {
   "cell_type": "markdown",
   "id": "d8cbf3e3",
   "metadata": {
    "slideshow": {
     "slide_type": "slide"
    }
   },
   "source": [
    "<table border=\"1\">\n",
    "<h2 align = \"left\"> Problem Statement: </h2>\n",
    "<br>\n",
    "<br>\n",
    "Nuclear powerplant placement is an increasingly controversial topic, as risk factors to the surrounding areas (agricultural, environmental) have become increasingly apparent.\n",
    "    \n",
    "By analyzing county-level data, I hope to model nuclear powerplant placement in the United States and uncover common risk factors across locations.\n",
    "<br>\n",
    "<br>\n",
    "<br>"
   ]
  },
  {
   "cell_type": "markdown",
   "id": "72f9471e",
   "metadata": {
    "slideshow": {
     "slide_type": "slide"
    }
   },
   "source": [
    "<table border=\"1\">\n",
    "<h2 align = \"left\"> Background I: History and Applications </h2>\n",
    "<tr>\n",
    "    <img src=\"chernobyl.png\" width=\"500\" align = \"right\">\n",
    " </tr>\n",
    " <tr>\n",
    " </tr>\n",
    "<br>\n",
    "<br>\n",
    "<br>\n",
    "<br>\n",
    "<br>\n",
    "<br>\n",
    "&#9679; Effects of nuclear contamination on crops and food supply is now more widely researched and apparent\n",
    "<br>\n",
    "<br>\n",
    "&#9679; Concerns are rising around increased extreme weather events and vulnerability of power plants\n",
    "<br>\n",
    "<br>\n",
    "&#9679; Lowering risk of nuclear power can help improve public perception of it as a low-cost, zero-carbon energy source\n",
    "<br>\n",
    "<br>"
   ]
  },
  {
   "cell_type": "markdown",
   "id": "7b01f72e",
   "metadata": {
    "slideshow": {
     "slide_type": "slide"
    }
   },
   "source": [
    "<table border=\"1\">\n",
    "<h2 align = \"left\"> Background II: Data Available </h2>\n",
    "<br>\n",
    "<br>\n",
    "<tr>\n",
    "    <img src=\"cropsite.png\" width=\"500\" align = \"right\">\n",
    " </tr>\n",
    " <tr>\n",
    " </tr>\n",
    "<br>\n",
    "<br>\n",
    "<br>\n",
    "<br>\n",
    "<br>\n",
    "<br>\n",
    "&#9679; Locations of U.S. Nuclear Power Plants (longitude/latitude).\n",
    "<br>\n",
    "<br>\n",
    "&#9679; USDA Crop production by zip code\n",
    "<br>\n",
    "<br>\n",
    "&#9679; Mapping of zip code to longitude/latitude to county\n",
    "<br>\n",
    "<br>    \n",
    "&#9679; U.S. Census Directory of zip codes, counties, population, and density \n",
    "<br>\n",
    "<br>\n",
    "&#9679; Weather and health data by county"
   ]
  },
  {
   "cell_type": "markdown",
   "id": "8fecbd55",
   "metadata": {
    "slideshow": {
     "slide_type": "slide"
    }
   },
   "source": [
    "<table border=\"1\">\n",
    "<h2 align = \"left\"> Methods Considered </h2>\n",
    "<br>\n",
    "<br>\n",
    "<tr>\n",
    "    <img src=\"worldnuke.png\" width=\"700\" align = \"right\">\n",
    " </tr>\n",
    " <tr>\n",
    " </tr>\n",
    "<br>\n",
    "<br>\n",
    "<br>\n",
    "<br>\n",
    "<br>\n",
    "<br>\n",
    "&#9679; Limitting to agricultural data \n",
    "<br>\n",
    "<br>\n",
    "&#9679; Analyzing powerplant placement on a global scale\n",
    "<br>\n",
    "<br>\n",
    "&#9679; Using longitude/latitude or zip code for basis of analysis\n",
    "<br>\n",
    "<br>    "
   ]
  },
  {
   "cell_type": "markdown",
   "id": "bb44ae29",
   "metadata": {
    "slideshow": {
     "slide_type": "slide"
    }
   },
   "source": [
    "<table border=\"1\">\n",
    "<h2 align = \"left\"> Methods Used </h2>\n",
    "<br>\n",
    "<br>\n",
    "<tr>\n",
    "    <img src=\"plot.png\" width=\"700\" align = \"right\">\n",
    " </tr>\n",
    " <tr>\n",
    " </tr>\n",
    "<br>\n",
    "<br>\n",
    "<br>\n",
    "<br>\n",
    "&#9679; Web scraping - directly gather data\n",
    "<br>\n",
    "<br>\n",
    "&#9679; Data wrangling in Python (Pandas, Numpy, etc.) and SQL - standardize unit of analysis\n",
    "<br>\n",
    "<br>\n",
    "&#9679; Data visualization in Python and R - create a range of visuals\n",
    "<br>\n",
    "<br>\n",
    "&#9679; SKlearn - create a predictive model\n",
    "<br>    "
   ]
  },
  {
   "cell_type": "markdown",
   "id": "4c4a17df",
   "metadata": {
    "slideshow": {
     "slide_type": "slide"
    }
   },
   "source": [
    "<table border=\"1\">\n",
    "<h2 align = \"left\"> Results 1: Wrangled Data </h2>\n",
    "<br>\n",
    "<br>\n",
    "<tr>\n",
    "    <img src=\"sql.png\" width=\"800\" align = \"right\">\n",
    " </tr>\n",
    " <tr>\n",
    " </tr>\n",
    "<br>\n",
    "<br>\n",
    "<br>\n",
    "<br>\n",
    "&#9679; Compiled data using pandas and SQL to organize by county\n",
    "<br>\n",
    "<br>\n",
    "&#9679; Standardized to county level data\n",
    "<br>\n",
    "<br>\n",
    "&#9679; Some gaps in climate data (not taken over time)\n",
    "<br>\n",
    "<br>\n",
    "<br>    "
   ]
  },
  {
   "cell_type": "markdown",
   "id": "276189ec",
   "metadata": {
    "slideshow": {
     "slide_type": "slide"
    }
   },
   "source": [
    "<table border=\"1\">\n",
    "<h2 align = \"left\"> Results 2: Visual Learnings </h2>\n",
    "<tr>\n",
    "    <img src=\"maps.png\" width=\"600\" align = \"right\">\n",
    " </tr>\n",
    " <tr>\n",
    " </tr>\n",
    "<br>\n",
    "<br>\n",
    "<br>\n",
    "<br>\n",
    "&#9679; Visually, we can see nuclear reactor placement does not avoid agricultural hubs (rendered in R)\n",
    "<br>\n",
    "<br>\n",
    "&#9679; Crop Production tends to occur in certain climate (not harsh)\n",
    "<br>\n",
    "<br>\n",
    "&#9679; Climate, elevation, or population characteristics may be better indicators\n",
    "<br>\n",
    "<br>\n",
    "<br>    "
   ]
  },
  {
   "cell_type": "markdown",
   "id": "1466f365",
   "metadata": {
    "slideshow": {
     "slide_type": "slide"
    }
   },
   "source": [
    "<table border=\"1\">\n",
    "<h2 align = \"left\"> Results 3: Predictive Model </h2>\n",
    "<br>\n",
    "<br>\n",
    "<tr>\n",
    "    <img src=\"factors.png\" width=\"500\" align = \"right\">\n",
    "    <img src=\"res.png\" width=\"500\" align = \"right\">\n",
    " </tr>\n",
    " <tr>\n",
    " </tr>\n",
    "<br>\n",
    "<br>\n",
    "<br>\n",
    "<br>\n",
    "&#9679; Predictive Model currently at 69% \n",
    "<br>\n",
    "<br>\n",
    "&#9679; Random forrest classifier was the best model fit\n",
    "<br>\n",
    "<br>\n",
    "&#9679; Weather related factors are currently the best predictors of location\n",
    "<br>\n",
    "<br>\n",
    "<br>   "
   ]
  },
  {
   "cell_type": "code",
   "execution_count": 19,
   "id": "e6cd7fce",
   "metadata": {
    "slideshow": {
     "slide_type": "skip"
    }
   },
   "outputs": [
    {
     "data": {
      "image/png": "[encoded data removed]",
      "text/plain": [
       "<Figure size 1000x300 with 3 Axes>"
      ]
     },
     "metadata": {},
     "output_type": "display_data"
    },
    {
     "data": {
      "text/plain": [
       "<ggplot: (324413880)>"
      ]
     },
     "execution_count": 19,
     "metadata": {},
     "output_type": "execute_result"
    }
   ],
   "source": [
    "dat2 = pd.read_csv(\"dat2.csv\")\n",
    "dat2 = dat2.fillna(0)\n",
    "\n",
    "#re-split new data\n",
    "y = dat2[['Reactor_Area']]\n",
    "X = dat2.drop(columns=['Reactor_Area'])\n",
    "\n",
    "train_X, test_X, train_y, test_y = train_test_split(X,y,test_size = .25,random_state=202011)\n",
    "\n",
    "d = train_X.select_dtypes(include=\"float\").melt()\n",
    "(\n",
    "    ggplot(d,aes(x=\"value\")) +\n",
    "    geom_histogram(bins=25) +\n",
    "    facet_wrap(\"variable\",scales='free') +\n",
    "    theme(figure_size=(10,3),\n",
    "          subplots_adjust={'wspace':0.25})\n",
    ")"
   ]
  },
  {
   "cell_type": "markdown",
   "id": "e64e90bb",
   "metadata": {
    "slideshow": {
     "slide_type": "slide"
    }
   },
   "source": [
    "<table border=\"1\">\n",
    "<h2 align = \"left\"> Lessons Learned 1: Challenges </h2>\n",
    "<br>\n",
    "<br>\n",
    "<tr>\n",
    "    <img src=\"miss2.png\" width=\"800\" align = \"right\">\n",
    " </tr>\n",
    " <tr>\n",
    " </tr>\n",
    "<br>\n",
    "<br>\n",
    "<br>\n",
    "<br>\n",
    "&#9679; Aggregating data (long/lat->zipcode->county)\n",
    "<br>\n",
    "<br>\n",
    "&#9679; Graphical data visualization\n",
    "<br>\n",
    "<br>\n",
    "&#9679; Variable inconsistencies\n",
    "<br>\n",
    "<br>\n",
    "<br>   "
   ]
  },
  {
   "cell_type": "markdown",
   "id": "34665e6d",
   "metadata": {
    "slideshow": {
     "slide_type": "slide"
    }
   },
   "source": [
    "<table border=\"1\">\n",
    "<h2 align = \"left\"> Lessons Learned 2: Next Steps </h2>\n",
    "<br>\n",
    "<br>\n",
    "<tr>\n",
    "    <img src=\"pre.png\" width=\"1000\" align = \"right\">\n",
    " </tr>\n",
    " </tr>\n",
    " </tr>\n",
    "<br>\n",
    "<br>\n",
    "<br>\n",
    "<br>\n",
    "&#9679; Overlay graph data to make it more meaningful\n",
    "<br>\n",
    "<br>\n",
    "&#9679; Fill in gaps in data set\n",
    "<br>\n",
    "<br>\n",
    "&#9679; Preprocessing of variables to better predict outcomes\n",
    "<br>\n",
    "<br>\n",
    "<br>   "
   ]
  },
  {
   "cell_type": "markdown",
   "id": "189371a1",
   "metadata": {},
   "source": []
  },
  {
   "cell_type": "code",
   "execution_count": null,
   "id": "9f228287",
   "metadata": {},
   "outputs": [],
   "source": []
  }
 ],
 "metadata": {
  "celltoolbar": "Slideshow",
  "kernelspec": {
   "display_name": "Python 3 (ipykernel)",
   "language": "python",
   "name": "python3"
  },
  "language_info": {
   "codemirror_mode": {
    "name": "ipython",
    "version": 3
   },
   "file_extension": ".py",
   "mimetype": "text/x-python",
   "name": "python",
   "nbconvert_exporter": "python",
   "pygments_lexer": "ipython3",
   "version": "3.9.7"
  }
 },
 "nbformat": 4,
 "nbformat_minor": 5
}
